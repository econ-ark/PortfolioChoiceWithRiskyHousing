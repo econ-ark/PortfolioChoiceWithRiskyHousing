{
  "cells": [
    {
      "cell_type": "markdown",
      "source": [
        "# Optimal financial investments over the life cycle: Part 2"
      ],
      "metadata": {
        "collapsed": false
      }
    },
    {
      "cell_type": "markdown",
      "source": [
        "Quantitative models of portfolio choice can provide insights into optimal savings and investment decisions over the life-cyle. However, predictions from state of the art models still differ significantly from portfolio allocations observed in the data. Although these models account for different types of uncertainty (labor income risk, mortality risk, and stock market risk), perhaps the largest missing feature in these models is homeownership. Homeownership for most households is the biggest financial decision in their lives, and it has implications for a household's optimal portfolio choice, as it often increases their leverage and exposes them to housing price risk. However, homeownership decisions substantially increase the computational complexity of life-cycle portfolio models and are therefore not often explored in the literature.\n",
        "\n",
        "The purpose of this project is to develop a quantitative model of housing and portfolio choice that is consistent with homeownership and stockholdings data found in the Survey of Consumer Finances. A similar model is presented by Cocco (2004)[1] where households choose between consumption, housing, and the proportion of savings in risky assets. The author finds that homeownership affects the portfolio choices of younger and poorer investors, and in particular, that housing price risk crowds out stockholdings for low-wealth households. Nevertheless, this model leaves out an important piece of the homeownership decision, which is the process of getting and paying off a mortgage. A mortgage has important implications for the portfolio composition of households and as such, this project aims to reconcile this gap in the literature.\n",
        "\n",
        "[1] [Portfolio Choice in the Presence of Housing](https://academic.oup.com/rfs/article-abstract/18/2/535/1599873)"
      ],
      "metadata": {
        "collapsed": false,
        "pycharm": {
          "name": "#%% md\n"
        }
      }
    },
    {
      "cell_type": "code",
      "source": [],
      "outputs": [],
      "execution_count": 0,
      "metadata": {
        "collapsed": false,
        "pycharm": {
          "name": "#%%\n"
        }
      }
    }
  ],
  "metadata": {
    "kernel_info": {
      "name": "python3"
    },
    "kernelspec": {
      "name": "python3",
      "language": "python",
      "display_name": "Python 3"
    },
    "language_info": {
      "name": "python",
      "version": "3.8.8",
      "mimetype": "text/x-python",
      "codemirror_mode": {
        "name": "ipython",
        "version": 3
      },
      "pygments_lexer": "ipython3",
      "nbconvert_exporter": "python",
      "file_extension": ".py"
    },
    "nteract": {
      "version": "0.28.0"
    }
  },
  "nbformat": 4,
  "nbformat_minor": 4
}